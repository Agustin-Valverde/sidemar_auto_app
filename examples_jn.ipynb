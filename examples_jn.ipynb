{
 "cells": [
  {
   "cell_type": "code",
   "execution_count": 1,
   "metadata": {},
   "outputs": [],
   "source": [
    "from api_shippter_ops import *"
   ]
  },
  {
   "cell_type": "code",
   "execution_count": 2,
   "metadata": {},
   "outputs": [
    {
     "name": "stdout",
     "output_type": "stream",
     "text": [
      "Empezando limpieza de ROD...\n",
      "Index(['roi', 'clientRut', 'client', 'blCode', 'mblCode', 'shippingCompany2',\n",
      "       'origin', 'destination', 'tipo_bulto', 'bultos', 'origin_name',\n",
      "       'dest_name'],\n",
      "      dtype='object')\n"
     ]
    }
   ],
   "source": [
    "shippter_path = Path(\"data/rod_op.json\")\n",
    "rod = get_shippter_quotes(shippter_path)\n",
    "\n",
    "rod_clean = limpiar_base(rod)"
   ]
  },
  {
   "cell_type": "code",
   "execution_count": 3,
   "metadata": {},
   "outputs": [
    {
     "name": "stdout",
     "output_type": "stream",
     "text": [
      "<class 'pandas.core.frame.DataFrame'>\n",
      "Index: 672 entries, 0 to 1054\n",
      "Data columns (total 12 columns):\n",
      " #   Column            Non-Null Count  Dtype \n",
      "---  ------            --------------  ----- \n",
      " 0   roi               668 non-null    object\n",
      " 1   clientRut         672 non-null    object\n",
      " 2   client            672 non-null    object\n",
      " 3   blCode            579 non-null    object\n",
      " 4   mblCode           672 non-null    object\n",
      " 5   shippingCompany2  431 non-null    object\n",
      " 6   origin            672 non-null    object\n",
      " 7   destination       672 non-null    object\n",
      " 8   tipo_bulto        672 non-null    object\n",
      " 9   bultos            672 non-null    object\n",
      " 10  origin_name       672 non-null    object\n",
      " 11  dest_name         672 non-null    object\n",
      "dtypes: object(12)\n",
      "memory usage: 68.2+ KB\n"
     ]
    }
   ],
   "source": [
    "rod_clean.info()"
   ]
  },
  {
   "cell_type": "code",
   "execution_count": 7,
   "metadata": {},
   "outputs": [
    {
     "data": {
      "text/html": [
       "<div>\n",
       "<style scoped>\n",
       "    .dataframe tbody tr th:only-of-type {\n",
       "        vertical-align: middle;\n",
       "    }\n",
       "\n",
       "    .dataframe tbody tr th {\n",
       "        vertical-align: top;\n",
       "    }\n",
       "\n",
       "    .dataframe thead th {\n",
       "        text-align: right;\n",
       "    }\n",
       "</style>\n",
       "<table border=\"1\" class=\"dataframe\">\n",
       "  <thead>\n",
       "    <tr style=\"text-align: right;\">\n",
       "      <th></th>\n",
       "      <th>roi</th>\n",
       "      <th>clientRut</th>\n",
       "      <th>client</th>\n",
       "      <th>blCode</th>\n",
       "      <th>mblCode</th>\n",
       "      <th>shippingCompany2</th>\n",
       "      <th>origin</th>\n",
       "      <th>destination</th>\n",
       "      <th>tipo_bulto</th>\n",
       "      <th>bultos</th>\n",
       "      <th>origin_name</th>\n",
       "      <th>dest_name</th>\n",
       "    </tr>\n",
       "  </thead>\n",
       "  <tbody>\n",
       "    <tr>\n",
       "      <th>1054</th>\n",
       "      <td>ROI M128251</td>\n",
       "      <td>77782590-9</td>\n",
       "      <td>EDITORIAL AMANUTA LIMITADA</td>\n",
       "      <td>(H)FCLVY20231189A1</td>\n",
       "      <td>ONEYCAND60976500</td>\n",
       "      <td>ONEY</td>\n",
       "      <td>HKHKG</td>\n",
       "      <td>CLVAP</td>\n",
       "      <td>74</td>\n",
       "      <td>1</td>\n",
       "      <td>NA</td>\n",
       "      <td>Valparaiso</td>\n",
       "    </tr>\n",
       "  </tbody>\n",
       "</table>\n",
       "</div>"
      ],
      "text/plain": [
       "              roi   clientRut                      client              blCode  \\\n",
       "1054  ROI M128251  77782590-9  EDITORIAL AMANUTA LIMITADA  (H)FCLVY20231189A1   \n",
       "\n",
       "               mblCode shippingCompany2 origin destination tipo_bulto bultos  \\\n",
       "1054  ONEYCAND60976500             ONEY  HKHKG       CLVAP         74      1   \n",
       "\n",
       "     origin_name   dest_name  \n",
       "1054          NA  Valparaiso  "
      ]
     },
     "execution_count": 7,
     "metadata": {},
     "output_type": "execute_result"
    }
   ],
   "source": [
    "(rod_clean\n",
    " .query(\"roi == 'ROI M128251'\"))"
   ]
  }
 ],
 "metadata": {
  "kernelspec": {
   "display_name": ".venv",
   "language": "python",
   "name": "python3"
  },
  "language_info": {
   "codemirror_mode": {
    "name": "ipython",
    "version": 3
   },
   "file_extension": ".py",
   "mimetype": "text/x-python",
   "name": "python",
   "nbconvert_exporter": "python",
   "pygments_lexer": "ipython3",
   "version": "3.12.1"
  }
 },
 "nbformat": 4,
 "nbformat_minor": 2
}
